{
 "cells": [
  {
   "cell_type": "code",
   "execution_count": null,
   "id": "c32e01ef",
   "metadata": {},
   "outputs": [],
   "source": [
    "!pip install Cython\n"
   ]
  },
  {
   "cell_type": "code",
   "execution_count": 46,
   "id": "98cc5a00",
   "metadata": {},
   "outputs": [],
   "source": [
    "import os\n",
    "import time\n",
    "import copy\n",
    "import torch\n",
    "import numpy as np\n",
    "import torch.nn as nn\n",
    "from PIL import Image\n",
    "from IPython.display import Image as ig\n",
    "from tqdm.notebook import tqdm\n",
    "import torch.nn.functional as F\n",
    "import torch.optim as optim\n",
    "from matplotlib import pyplot as plt\n",
    "from torchvision import datasets, transforms\n"
   ]
  },
  {
   "cell_type": "code",
   "execution_count": 47,
   "id": "4d9599e9",
   "metadata": {},
   "outputs": [
    {
     "name": "stdout",
     "output_type": "stream",
     "text": [
      "cuda:0\n"
     ]
    }
   ],
   "source": [
    "device = torch.device(\"cuda:0\" if torch.cuda.is_available() else \"cpu\")\n",
    "print(device)"
   ]
  },
  {
   "cell_type": "code",
   "execution_count": 48,
   "id": "05a12cda",
   "metadata": {},
   "outputs": [],
   "source": [
    "data_path = './dataset/mnist-digit/'\n",
    "data_transforms = {\n",
    "    'train': transforms.Compose([\n",
    "        transforms.RandomHorizontalFlip(),\n",
    "        transforms.RandomVerticalFlip(),\n",
    "        transforms.Grayscale(1),\n",
    "        transforms.ToTensor(),\n",
    "#         transforms.Normalize([0.485, 0.456, 0.406], [0.229, 0.224, 0.225])\n",
    "    ]),\n",
    "    'val': transforms.Compose([\n",
    "        transforms.ToTensor(),\n",
    "        transforms.Grayscale(1),\n",
    "        # transforms.Normalize([0.485, 0.456, 0.406], [0.229, 0.224, 0.225])\n",
    "    ]),\n",
    "}"
   ]
  },
  {
   "cell_type": "code",
   "execution_count": 49,
   "id": "ffa70f03",
   "metadata": {},
   "outputs": [],
   "source": [
    "BATCH_SIZE = 64\n",
    "\n",
    "# EPOCHS = 10"
   ]
  },
  {
   "cell_type": "code",
   "execution_count": 50,
   "id": "3ef94145",
   "metadata": {},
   "outputs": [],
   "source": [
    "#load dataset and apply dataloaders\n",
    "image_datasets = {x: datasets.ImageFolder(root=os.path.join(data_path, x),transform=data_transforms[x]) for x in ['train', 'val']}\n",
    "dataloaders = {x:torch.utils.data.DataLoader(image_datasets[x], batch_size=BATCH_SIZE, shuffle=True) for x in ['train', 'val']}"
   ]
  },
  {
   "cell_type": "code",
   "execution_count": 51,
   "id": "604863af",
   "metadata": {},
   "outputs": [],
   "source": [
    "target = image_datasets['train'].classes"
   ]
  },
  {
   "cell_type": "code",
   "execution_count": 52,
   "id": "1b58fccd",
   "metadata": {},
   "outputs": [
    {
     "data": {
      "text/plain": [
       "508"
      ]
     },
     "execution_count": 52,
     "metadata": {},
     "output_type": "execute_result"
    }
   ],
   "source": [
    "dataset_sizes = {x:len(image_datasets[x]) for x in ['train', 'val']}\n",
    "dataset_sizes['val']"
   ]
  },
  {
   "cell_type": "code",
   "execution_count": 53,
   "id": "7bc36d51",
   "metadata": {
    "scrolled": true
   },
   "outputs": [],
   "source": [
    "# print('==> Computing mean and std..')\n",
    "# means, stds = 0, 0\n",
    "# for i, (inputs, _labels) in enumerate(tqdm(dataloaders['train'])):\n",
    "#     if i!=10:\n",
    "#         means += inputs.mean()\n",
    "#         stds += inputs.std()\n",
    "# means.div_(dataset_sizes['train'])\n",
    "# stds.div_(dataset_sizes['train'])\n",
    "# # print(means, stds)"
   ]
  },
  {
   "attachments": {
    "image.png": {
     "image/png": "[encoded data removed]"
    }
   },
   "cell_type": "markdown",
   "id": "7f597a0c",
   "metadata": {},
   "source": [
    "![image.png](attachment:image.png)"
   ]
  },
  {
   "cell_type": "code",
   "execution_count": 54,
   "id": "4129a6d1",
   "metadata": {},
   "outputs": [
    {
     "name": "stdout",
     "output_type": "stream",
     "text": [
      "5.0\n"
     ]
    }
   ],
   "source": [
    "def check_size(w, f, p, s):\n",
    "    wo = ((w-f+2*p)/(s+1))\n",
    "    return wo\n",
    "\n",
    "print(check_size(12, 2, 0, 1))\n",
    "#46 #44\n",
    "#40 #18\n",
    "#14 #61\n",
    "\n",
    "#26 #25\n",
    "#12 #11\n"
   ]
  },
  {
   "cell_type": "markdown",
   "id": "a76744aa",
   "metadata": {},
   "source": [
    "### Model"
   ]
  },
  {
   "cell_type": "code",
   "execution_count": 55,
   "id": "d42afc8d",
   "metadata": {},
   "outputs": [],
   "source": [
    "class Model(nn.Module):\n",
    "    def __init__(self):\n",
    "        super(Model, self).__init__()\n",
    "        self.conv1 = nn.Conv2d(in_channels=1, out_channels=4, kernel_size=3, stride=1) \n",
    "        self.pool1 = nn.MaxPool2d(kernel_size=2, stride=1)                                  \n",
    "        self.conv2 = nn.Conv2d(in_channels=4, out_channels=8, kernel_size=3, stride=2)                               \n",
    "        self.pool2 = nn.MaxPool2d(kernel_size=2, stride=1)                                  \n",
    "        self.fc1 = nn.Linear(8*11*11, 120)\n",
    "        self.fc2 = nn.Linear(120, 10)\n",
    "        self.relu = nn.ReLU()\n",
    "#         self.softmax = nn.Softmax(dim=1)\n",
    "#         softmax\n",
    "\n",
    "    def forward(self, x):\n",
    "        x = self.pool1(self.relu(self.conv1(x)))         # output: 26*26 -> # output: 25*25\n",
    "        x = self.pool2(self.relu(self.conv2(x)))         # output:  12*12 -> 11*11\n",
    "        x = x.view(x.size(0), -1)\n",
    "#         x = torch.flatten(x, 1) # flatten all dimensions except batch\n",
    "        x = self.relu(self.fc1(x))\n",
    "        x = self.fc2(x)\n",
    "        return x\n",
    "\n",
    "net = Model()"
   ]
  },
  {
   "cell_type": "markdown",
   "id": "515f99c9",
   "metadata": {},
   "source": [
    "### Building Methods to train model and test on images."
   ]
  },
  {
   "cell_type": "code",
   "execution_count": 56,
   "id": "bb0471c1",
   "metadata": {},
   "outputs": [],
   "source": [
    "class Methods:\n",
    "    def __init__(self):\n",
    "#         pass\n",
    "        self.model = None\n",
    "        \n",
    "    def train(self, model, epochs, optimizer, criterion):\n",
    "        self.model = model\n",
    "        start = time.time()\n",
    "    #     model_params = copy.deepcopy(model.state_dict())\n",
    "        for epoch in (range(epochs)):  # loop over the dataset multiple times\n",
    "            \n",
    "            print(f'Epoch: {epoch+1}')\n",
    "            for mode in ['train', 'val']:\n",
    "#                 model.eval()\n",
    "                running_loss = 0.0\n",
    "                running_acc = 0.0\n",
    "                for i, data in tqdm(enumerate(dataloaders[mode], 0), total=657):\n",
    "                    # get the inputs; data is a list of [inputs, labels]\n",
    "                    inputs, labels = data\n",
    "                    #transfer the inputs, labels to GPU \n",
    "                    inputs = inputs.to(device)\n",
    "                    labels = labels.to(device)\n",
    "                    inputs = inputs.float()\n",
    "                    # zero the parameter gradients every mini batches\n",
    "                    optimizer.zero_grad()\n",
    "                    # forward pass\n",
    "                    outputs = self.model(inputs)\n",
    "                    #loss calculation\n",
    "                    loss = criterion(outputs, labels)\n",
    "#                     print(i, outputs.shape)\n",
    "                    if mode=='train':\n",
    "                        #backward pass\n",
    "                        loss.backward()\n",
    "                        #optimize and update the params\n",
    "                        optimizer.step()\n",
    "\n",
    "                    # print statistics\n",
    "                    running_loss += loss.item()\n",
    "                    #for ACcuracy\n",
    "                    outputs = torch.log_softmax(outputs, dim=1)\n",
    "                    max_vals, max_idx = torch.max(outputs, 1)\n",
    "        #             max_idx = torch.argmax(outputs, 1)\n",
    "                    check = torch.sum(max_idx==labels)\n",
    "                    running_acc += check\n",
    "        #         model_params = copy.deepcopy(model.state_dict())\n",
    "                if mode=='train':\n",
    "                    print(f'Training Loss: {running_loss:.3f} Training Accuracy: {(100*running_acc/dataset_sizes[mode]):.2f}%')\n",
    "                else:\n",
    "                    print(f'Validation Loss: {running_loss:.3f} Valaidation Accuracy: {(100*running_acc/dataset_sizes[mode]):.2f}%')\n",
    "            print(f'-----------------------------------')\n",
    "        end = time.time()\n",
    "        training_time = end-start\n",
    "    #     model.load_state_dict(model_params)\n",
    "        print(f'Training Completed in: {training_time//60} min {training_time%60:.2f} sec')\n",
    "        print('Finished Training')\n",
    "        return self.model\n",
    "    \n",
    "    #test single image\n",
    "    def testImage(self, PATH):\n",
    "        if self.model==None:\n",
    "            print('First, train the model.')\n",
    "            return\n",
    "        self.model.eval()\n",
    "        image = Image.open(PATH)\n",
    "        # Define a transform to convert the image to tensor\n",
    "        transform = transforms.ToTensor()\n",
    "        # Convert the image to PyTorch tensor\n",
    "        img_tensor = transform(image)\n",
    "        #adding one dimension [1*1*28*28]\n",
    "        img_tensor = torch.unsqueeze(img_tensor, 0)\n",
    "        #moved to GPU\n",
    "        self.model.to(device)\n",
    "        #moved to Tensor and GPU\n",
    "        img_tensor = img_tensor.to(device)\n",
    "        img_tensor = img_tensor.float()\n",
    "        pred = trained_model(img_tensor)\n",
    "        #aplying softmax\n",
    "        check = F.softmax(pred, dim=1)\n",
    "        #get maximum index value\n",
    "        idx = torch.argmax(check, dim=1)\n",
    "        return idx"
   ]
  },
  {
   "cell_type": "markdown",
   "id": "c2bb24fa",
   "metadata": {},
   "source": [
    "### Loss and Optimizer\n"
   ]
  },
  {
   "cell_type": "code",
   "execution_count": 57,
   "id": "945f45d3",
   "metadata": {},
   "outputs": [],
   "source": [
    "criterion = nn.CrossEntropyLoss()\n",
    "optimizer = optim.SGD(net.parameters(), lr=0.001, momentum=0.9)"
   ]
  },
  {
   "cell_type": "markdown",
   "id": "9654e53e",
   "metadata": {},
   "source": [
    "### Train  and Test"
   ]
  },
  {
   "cell_type": "code",
   "execution_count": 58,
   "id": "da694ff7",
   "metadata": {
    "scrolled": true
   },
   "outputs": [],
   "source": [
    "EPOCHS = 10\n",
    "method = Methods()\n"
   ]
  },
  {
   "cell_type": "code",
   "execution_count": 36,
   "id": "e5260335",
   "metadata": {},
   "outputs": [
    {
     "name": "stdout",
     "output_type": "stream",
     "text": [
      "Epoch: 1\n"
     ]
    },
    {
     "data": {
      "application/vnd.jupyter.widget-view+json": {
       "model_id": "9803d96563ab4630afb3f1dafb3b9998",
       "version_major": 2,
       "version_minor": 0
      },
      "text/plain": [
       "  0%|          | 0/657 [00:00<?, ?it/s]"
      ]
     },
     "metadata": {},
     "output_type": "display_data"
    },
    {
     "name": "stdout",
     "output_type": "stream",
     "text": [
      "Training Loss: 177.144 Training Accuracy: 91.49%\n"
     ]
    },
    {
     "data": {
      "application/vnd.jupyter.widget-view+json": {
       "model_id": "a31c825a1b51476cb2da2a165d243bd8",
       "version_major": 2,
       "version_minor": 0
      },
      "text/plain": [
       "  0%|          | 0/657 [00:00<?, ?it/s]"
      ]
     },
     "metadata": {},
     "output_type": "display_data"
    },
    {
     "name": "stdout",
     "output_type": "stream",
     "text": [
      "Validation Loss: 2.251 Valaidation Accuracy: 90.35%\n",
      "-----------------------------------\n",
      "Epoch: 2\n"
     ]
    },
    {
     "data": {
      "application/vnd.jupyter.widget-view+json": {
       "model_id": "d81d07c507fb4b0a9300637142e0c68d",
       "version_major": 2,
       "version_minor": 0
      },
      "text/plain": [
       "  0%|          | 0/657 [00:00<?, ?it/s]"
      ]
     },
     "metadata": {},
     "output_type": "display_data"
    },
    {
     "name": "stdout",
     "output_type": "stream",
     "text": [
      "Training Loss: 171.827 Training Accuracy: 91.63%\n"
     ]
    },
    {
     "data": {
      "application/vnd.jupyter.widget-view+json": {
       "model_id": "0f618347203d442ba8e71fbec08a9532",
       "version_major": 2,
       "version_minor": 0
      },
      "text/plain": [
       "  0%|          | 0/657 [00:00<?, ?it/s]"
      ]
     },
     "metadata": {},
     "output_type": "display_data"
    },
    {
     "name": "stdout",
     "output_type": "stream",
     "text": [
      "Validation Loss: 1.958 Valaidation Accuracy: 92.32%\n",
      "-----------------------------------\n",
      "Epoch: 3\n"
     ]
    },
    {
     "data": {
      "application/vnd.jupyter.widget-view+json": {
       "model_id": "23969940873e4268a919f909b8abac67",
       "version_major": 2,
       "version_minor": 0
      },
      "text/plain": [
       "  0%|          | 0/657 [00:00<?, ?it/s]"
      ]
     },
     "metadata": {},
     "output_type": "display_data"
    },
    {
     "name": "stdout",
     "output_type": "stream",
     "text": [
      "Training Loss: 164.410 Training Accuracy: 92.06%\n"
     ]
    },
    {
     "data": {
      "application/vnd.jupyter.widget-view+json": {
       "model_id": "3f2d4fad62df4190aeb36dd86890e585",
       "version_major": 2,
       "version_minor": 0
      },
      "text/plain": [
       "  0%|          | 0/657 [00:00<?, ?it/s]"
      ]
     },
     "metadata": {},
     "output_type": "display_data"
    },
    {
     "name": "stdout",
     "output_type": "stream",
     "text": [
      "Validation Loss: 1.820 Valaidation Accuracy: 93.31%\n",
      "-----------------------------------\n",
      "Epoch: 4\n"
     ]
    },
    {
     "data": {
      "application/vnd.jupyter.widget-view+json": {
       "model_id": "a52a6a1755c64d5b8781d8de905c1005",
       "version_major": 2,
       "version_minor": 0
      },
      "text/plain": [
       "  0%|          | 0/657 [00:00<?, ?it/s]"
      ]
     },
     "metadata": {},
     "output_type": "display_data"
    },
    {
     "name": "stdout",
     "output_type": "stream",
     "text": [
      "Training Loss: 156.657 Training Accuracy: 92.47%\n"
     ]
    },
    {
     "data": {
      "application/vnd.jupyter.widget-view+json": {
       "model_id": "1bbaaed805e84f3c9539cebd893a3642",
       "version_major": 2,
       "version_minor": 0
      },
      "text/plain": [
       "  0%|          | 0/657 [00:00<?, ?it/s]"
      ]
     },
     "metadata": {},
     "output_type": "display_data"
    },
    {
     "name": "stdout",
     "output_type": "stream",
     "text": [
      "Validation Loss: 2.221 Valaidation Accuracy: 92.13%\n",
      "-----------------------------------\n",
      "Epoch: 5\n"
     ]
    },
    {
     "data": {
      "application/vnd.jupyter.widget-view+json": {
       "model_id": "9474925815664d0d84739a9c4b80fd61",
       "version_major": 2,
       "version_minor": 0
      },
      "text/plain": [
       "  0%|          | 0/657 [00:00<?, ?it/s]"
      ]
     },
     "metadata": {},
     "output_type": "display_data"
    },
    {
     "name": "stdout",
     "output_type": "stream",
     "text": [
      "Training Loss: 151.701 Training Accuracy: 92.73%\n"
     ]
    },
    {
     "data": {
      "application/vnd.jupyter.widget-view+json": {
       "model_id": "5e04e6b3524a4b80b59359a663e7705f",
       "version_major": 2,
       "version_minor": 0
      },
      "text/plain": [
       "  0%|          | 0/657 [00:00<?, ?it/s]"
      ]
     },
     "metadata": {},
     "output_type": "display_data"
    },
    {
     "name": "stdout",
     "output_type": "stream",
     "text": [
      "Validation Loss: 1.852 Valaidation Accuracy: 92.91%\n",
      "-----------------------------------\n",
      "Epoch: 6\n"
     ]
    },
    {
     "data": {
      "application/vnd.jupyter.widget-view+json": {
       "model_id": "6169f47f1dc64265886b2962cf97b2f6",
       "version_major": 2,
       "version_minor": 0
      },
      "text/plain": [
       "  0%|          | 0/657 [00:00<?, ?it/s]"
      ]
     },
     "metadata": {},
     "output_type": "display_data"
    },
    {
     "name": "stdout",
     "output_type": "stream",
     "text": [
      "Training Loss: 147.036 Training Accuracy: 92.81%\n"
     ]
    },
    {
     "data": {
      "application/vnd.jupyter.widget-view+json": {
       "model_id": "7a3d545226f24efea29fbdcea9b8bb72",
       "version_major": 2,
       "version_minor": 0
      },
      "text/plain": [
       "  0%|          | 0/657 [00:00<?, ?it/s]"
      ]
     },
     "metadata": {},
     "output_type": "display_data"
    },
    {
     "name": "stdout",
     "output_type": "stream",
     "text": [
      "Validation Loss: 1.834 Valaidation Accuracy: 93.11%\n",
      "-----------------------------------\n",
      "Epoch: 7\n"
     ]
    },
    {
     "data": {
      "application/vnd.jupyter.widget-view+json": {
       "model_id": "bf93b97a1ff4417aa78b8b3c328a914e",
       "version_major": 2,
       "version_minor": 0
      },
      "text/plain": [
       "  0%|          | 0/657 [00:00<?, ?it/s]"
      ]
     },
     "metadata": {},
     "output_type": "display_data"
    },
    {
     "name": "stdout",
     "output_type": "stream",
     "text": [
      "Training Loss: 139.457 Training Accuracy: 93.18%\n"
     ]
    },
    {
     "data": {
      "application/vnd.jupyter.widget-view+json": {
       "model_id": "e7c6fc9b1cfd44ff997f3040691d844f",
       "version_major": 2,
       "version_minor": 0
      },
      "text/plain": [
       "  0%|          | 0/657 [00:00<?, ?it/s]"
      ]
     },
     "metadata": {},
     "output_type": "display_data"
    },
    {
     "name": "stdout",
     "output_type": "stream",
     "text": [
      "Validation Loss: 1.785 Valaidation Accuracy: 92.72%\n",
      "-----------------------------------\n",
      "Epoch: 8\n"
     ]
    },
    {
     "data": {
      "application/vnd.jupyter.widget-view+json": {
       "model_id": "e2bbfe2d25024849bb2412f6c8e1c9b9",
       "version_major": 2,
       "version_minor": 0
      },
      "text/plain": [
       "  0%|          | 0/657 [00:00<?, ?it/s]"
      ]
     },
     "metadata": {},
     "output_type": "display_data"
    },
    {
     "name": "stdout",
     "output_type": "stream",
     "text": [
      "Training Loss: 133.781 Training Accuracy: 93.48%\n"
     ]
    },
    {
     "data": {
      "application/vnd.jupyter.widget-view+json": {
       "model_id": "f9af2b253ee24206b0f834f5bf943869",
       "version_major": 2,
       "version_minor": 0
      },
      "text/plain": [
       "  0%|          | 0/657 [00:00<?, ?it/s]"
      ]
     },
     "metadata": {},
     "output_type": "display_data"
    },
    {
     "name": "stdout",
     "output_type": "stream",
     "text": [
      "Validation Loss: 1.882 Valaidation Accuracy: 92.13%\n",
      "-----------------------------------\n",
      "Epoch: 9\n"
     ]
    },
    {
     "data": {
      "application/vnd.jupyter.widget-view+json": {
       "model_id": "ffda5e37b907457f9648454248c3ebcd",
       "version_major": 2,
       "version_minor": 0
      },
      "text/plain": [
       "  0%|          | 0/657 [00:00<?, ?it/s]"
      ]
     },
     "metadata": {},
     "output_type": "display_data"
    },
    {
     "name": "stdout",
     "output_type": "stream",
     "text": [
      "Training Loss: 128.944 Training Accuracy: 93.75%\n"
     ]
    },
    {
     "data": {
      "application/vnd.jupyter.widget-view+json": {
       "model_id": "dd2c9e7d876248efa56fd088d812c63f",
       "version_major": 2,
       "version_minor": 0
      },
      "text/plain": [
       "  0%|          | 0/657 [00:00<?, ?it/s]"
      ]
     },
     "metadata": {},
     "output_type": "display_data"
    },
    {
     "name": "stdout",
     "output_type": "stream",
     "text": [
      "Validation Loss: 1.754 Valaidation Accuracy: 92.91%\n",
      "-----------------------------------\n",
      "Epoch: 10\n"
     ]
    },
    {
     "data": {
      "application/vnd.jupyter.widget-view+json": {
       "model_id": "fe2b55894ae34583b40a7d2f369aa9df",
       "version_major": 2,
       "version_minor": 0
      },
      "text/plain": [
       "  0%|          | 0/657 [00:00<?, ?it/s]"
      ]
     },
     "metadata": {},
     "output_type": "display_data"
    },
    {
     "name": "stdout",
     "output_type": "stream",
     "text": [
      "Training Loss: 122.747 Training Accuracy: 94.06%\n"
     ]
    },
    {
     "data": {
      "application/vnd.jupyter.widget-view+json": {
       "model_id": "e9538d8340444ed5b5e6e0217c8a0ed1",
       "version_major": 2,
       "version_minor": 0
      },
      "text/plain": [
       "  0%|          | 0/657 [00:00<?, ?it/s]"
      ]
     },
     "metadata": {},
     "output_type": "display_data"
    },
    {
     "name": "stdout",
     "output_type": "stream",
     "text": [
      "Validation Loss: 1.663 Valaidation Accuracy: 94.09%\n",
      "-----------------------------------\n",
      "Training Completed in: 4.0 min 7.98 sec\n",
      "Finished Training\n"
     ]
    }
   ],
   "source": [
    "trained_model = method.train(net.to(device), EPOCHS, optimizer, criterion)"
   ]
  },
  {
   "cell_type": "markdown",
   "id": "09e2a2fc",
   "metadata": {},
   "source": [
    "### Testing Single Image\n"
   ]
  },
  {
   "cell_type": "code",
   "execution_count": 78,
   "id": "334ce0ab",
   "metadata": {
    "scrolled": true
   },
   "outputs": [
    {
     "name": "stdout",
     "output_type": "stream",
     "text": [
      "First, train the model.\n",
      "None\n"
     ]
    }
   ],
   "source": [
    "# PATH = 'dataset/mnist-digit/test/img_28.jpg'\n",
    "IMG_PATH = 'eight.png'\n",
    "print(method.testImage(PATH))"
   ]
  },
  {
   "cell_type": "code",
   "execution_count": 79,
   "id": "0f7e0ca1",
   "metadata": {},
   "outputs": [
    {
     "data": {
      "image/png": "[encoded data removed]",
      "text/plain": [
       "<IPython.core.display.Image object>"
      ]
     },
     "execution_count": 79,
     "metadata": {},
     "output_type": "execute_result"
    }
   ],
   "source": [
    "ig(filename=PATH)\n"
   ]
  },
  {
   "cell_type": "markdown",
   "id": "6e561f4d",
   "metadata": {},
   "source": [
    "### Save Model "
   ]
  },
  {
   "cell_type": "code",
   "execution_count": 39,
   "id": "67acbd4e",
   "metadata": {},
   "outputs": [],
   "source": [
    "FILE_PATH = 'cnn_image_classification.pt'\n",
    "torch.save(trained_model.state_dict(), FILE_PATH)\n"
   ]
  },
  {
   "cell_type": "markdown",
   "id": "1c4e8b12",
   "metadata": {},
   "source": [
    "### Load Model"
   ]
  },
  {
   "cell_type": "code",
   "execution_count": 62,
   "id": "fa3280ca",
   "metadata": {},
   "outputs": [
    {
     "data": {
      "text/plain": [
       "Model(\n",
       "  (conv1): Conv2d(1, 4, kernel_size=(3, 3), stride=(1, 1))\n",
       "  (pool1): MaxPool2d(kernel_size=2, stride=1, padding=0, dilation=1, ceil_mode=False)\n",
       "  (conv2): Conv2d(4, 8, kernel_size=(3, 3), stride=(2, 2))\n",
       "  (pool2): MaxPool2d(kernel_size=2, stride=1, padding=0, dilation=1, ceil_mode=False)\n",
       "  (fc1): Linear(in_features=968, out_features=120, bias=True)\n",
       "  (fc2): Linear(in_features=120, out_features=10, bias=True)\n",
       "  (relu): ReLU()\n",
       ")"
      ]
     },
     "execution_count": 62,
     "metadata": {},
     "output_type": "execute_result"
    }
   ],
   "source": [
    "#restore/load model\n",
    "# FILE_PATH = 'cnn_image_classification.pt'\n",
    "net.load_state_dict(torch.load(FILE_PATH))\n",
    "net.eval()\n"
   ]
  },
  {
   "cell_type": "code",
   "execution_count": 86,
   "id": "6271d22c",
   "metadata": {},
   "outputs": [],
   "source": [
    "def testImage2(model, PATH):\n",
    "    image = Image.open(PATH)\n",
    "    model = model.to(device)\n",
    "    # Define a transform to convert the image to tensor\n",
    "    transform = transforms.ToTensor()\n",
    "    # Convert the image to PyTorch tensor\n",
    "    img_tensor = transform(image)\n",
    "    #adding one dimension [1*1*28*28]\n",
    "    img_tensor = torch.unsqueeze(img_tensor, 0)\n",
    "    #moved to GPU\n",
    "    model.to(device)\n",
    "    #moved to Tensor and GPU\n",
    "    img_tensor = img_tensor.to(device)\n",
    "    img_tensor = img_tensor.float()\n",
    "    pred = model(img_tensor)\n",
    "    #aplying softmax\n",
    "    check = F.softmax(pred, dim=1)\n",
    "    #get maximum index value\n",
    "    idx = torch.argmax(check, dim=1)\n",
    "    \n",
    "    return target[idx]"
   ]
  },
  {
   "cell_type": "code",
   "execution_count": 87,
   "id": "8e5361e3",
   "metadata": {},
   "outputs": [
    {
     "data": {
      "text/plain": [
       "'2'"
      ]
     },
     "execution_count": 87,
     "metadata": {},
     "output_type": "execute_result"
    }
   ],
   "source": [
    "IMG_PATH = 'dataset/mnist-digit/test/img_1.jpg'\n",
    "testImage2(net, IMG_PATH)"
   ]
  },
  {
   "cell_type": "code",
   "execution_count": 88,
   "id": "392bff89",
   "metadata": {},
   "outputs": [
    {
     "data": {
      "image/jpeg": "[encoded data removed]",
      "text/plain": [
       "<IPython.core.display.Image object>"
      ]
     },
     "execution_count": 88,
     "metadata": {},
     "output_type": "execute_result"
    }
   ],
   "source": [
    "ig(filename=IMG_PATH)"
   ]
  }
 ],
 "metadata": {
  "kernelspec": {
   "display_name": "Python 3",
   "language": "python",
   "name": "python3"
  },
  "language_info": {
   "codemirror_mode": {
    "name": "ipython",
    "version": 3
   },
   "file_extension": ".py",
   "mimetype": "text/x-python",
   "name": "python",
   "nbconvert_exporter": "python",
   "pygments_lexer": "ipython3",
   "version": "3.9.4"
  },
  "vscode": {
   "interpreter": {
    "hash": "d0080f542f04b426513cd61d1402999311c71b63244d2de2a00bf267d13209bc"
   }
  }
 },
 "nbformat": 4,
 "nbformat_minor": 5
}
